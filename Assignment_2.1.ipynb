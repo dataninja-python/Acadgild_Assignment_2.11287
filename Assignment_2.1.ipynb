{
 "cells": [
  {
   "cell_type": "markdown",
   "metadata": {},
   "source": [
    "# Homework 2.1\n",
    "Write a program which accepts a sequence of comma separated numbers from console and generate a list"
   ]
  },
  {
   "cell_type": "code",
   "execution_count": 13,
   "metadata": {},
   "outputs": [
    {
     "name": "stdout",
     "output_type": "stream",
     "text": [
      "Enter numbers separated by commas. Hit ENTER to end.234325, 3254366, 0.34,10,2,4,678\n"
     ]
    },
    {
     "data": {
      "text/plain": [
       "['234325', '3254366', '0.34', '10', '2', '4', '678']"
      ]
     },
     "execution_count": 13,
     "metadata": {},
     "output_type": "execute_result"
    }
   ],
   "source": [
    "user_numbers = input(\"Enter numbers separated by commas. Hit ENTER to end.\")\n",
    "number_list = user_numbers.replace(' ', '').split(',')\n",
    "number_list"
   ]
  }
 ],
 "metadata": {
  "kernelspec": {
   "display_name": "Python 3",
   "language": "python",
   "name": "python3"
  },
  "language_info": {
   "codemirror_mode": {
    "name": "ipython",
    "version": 3
   },
   "file_extension": ".py",
   "mimetype": "text/x-python",
   "name": "python",
   "nbconvert_exporter": "python",
   "pygments_lexer": "ipython3",
   "version": "3.6.6"
  }
 },
 "nbformat": 4,
 "nbformat_minor": 2
}
